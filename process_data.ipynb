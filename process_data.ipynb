{
 "cells": [
  {
   "cell_type": "code",
   "execution_count": 7,
   "metadata": {},
   "outputs": [],
   "source": [
    "import chess.pgn\n",
    "import pandas as pd\n",
    "\n",
    "# Hàm để đọc một số lượng ván cờ từ file PGN\n",
    "def parse_partial_pgn_to_dataframe(pgn_file, num_games=10):\n",
    "    games_data = []\n",
    "    \n",
    "    # Mở file PGN\n",
    "    with open(pgn_file, 'r') as pgn:\n",
    "        # Đếm số lượng ván cờ đã đọc\n",
    "        game_count = 0\n",
    "        \n",
    "        # Đọc từng game\n",
    "        while game_count < num_games:\n",
    "            game = chess.pgn.read_game(pgn)\n",
    "            if game is None:\n",
    "                break  # Kết thúc tệp nếu không còn ván cờ nào\n",
    "            \n",
    "            # display(game.headers)\n",
    "            \n",
    "            # Lấy thông tin chung về trận đấu\n",
    "            game_info = game.headers\n",
    "            \n",
    "            # Lấy toàn bộ nước đi của trận đấu\n",
    "            moves = game.mainline_moves()\n",
    "            move_list = [str(move) for move in moves]\n",
    "            \n",
    "            # Thêm thông tin vào danh sách\n",
    "            games_data.append({\n",
    "                'Event': game_info.get(\"Event\", \"\"),\n",
    "                'Site': game_info.get(\"Site\", \"\"),\n",
    "                'Date': game_info.get(\"Date\", \"\"),\n",
    "                'Round': game_info.get(\"Round\", \"\"),\n",
    "                'White': game_info.get(\"White\", \"\"),\n",
    "                'Black': game_info.get(\"Black\", \"\"),\n",
    "                'Result': game_info.get(\"Result\", \"\"),\n",
    "                'Moves': move_list\n",
    "            })\n",
    "            \n",
    "            # Tăng biến đếm số lượng ván cờ\n",
    "            game_count += 1\n",
    "    \n",
    "    # Chuyển sang pandas DataFrame\n",
    "    return pd.DataFrame(games_data)\n",
    "\n",
    "# Đọc một phần của file PGN (chỉ đọc 5 ván cờ đầu tiên)\n",
    "pgn_file = 'lichess_db_chess960_rated_2018-09.pgn/lichess_db_chess960_rated_2018-09.pgn'\n",
    "df = parse_partial_pgn_to_dataframe(pgn_file, num_games=100)\n",
    "\n",
    "# Hiển thị DataFrame chứa thông tin về các ván cờ đầu tiên\n",
    "# display(df)\n"
   ]
  },
  {
   "cell_type": "code",
   "execution_count": 8,
   "metadata": {},
   "outputs": [
    {
     "name": "stdout",
     "output_type": "stream",
     "text": [
      "Dữ liệu đã được gửi đến Kafka.\n"
     ]
    }
   ],
   "source": [
    "from kafka import KafkaProducer, KafkaAdminClient\n",
    "from kafka.admin import NewTopic\n",
    "import json\n",
    "\n",
    "# Tạo Kafka Producer\n",
    "producer = KafkaProducer(\n",
    "    bootstrap_servers='localhost:9092',  # Địa chỉ của Kafka broker\n",
    "    value_serializer=lambda v: json.dumps(v).encode('utf-8')  # Chuyển đổi dữ liệu thành chuỗi JSON\n",
    ")\n",
    "\n",
    "# # Địa chỉ của Kafka broker\n",
    "# bootstrap_servers = 'localhost:9092'\n",
    "# topic_name = 'chess_demo'\n",
    "\n",
    "# # Tạo Kafka AdminClient để tạo topic\n",
    "# admin_client = KafkaAdminClient(bootstrap_servers=bootstrap_servers)\n",
    "\n",
    "# # Tạo topic mới\n",
    "# new_topic = NewTopic(name=topic_name, num_partitions=1, replication_factor=1)\n",
    "# admin_client.create_topics(new_topics=[new_topic], validate_only=False)\n",
    "\n",
    "# Gửi dữ liệu từ DataFrame lên Kafka\n",
    "for index, row in df.iterrows():\n",
    "    message = row.to_dict()  # Chuyển từng hàng của DataFrame thành dict\n",
    "    producer.send('chess', value=message)  # Gửi đến topic 'my_topic'\n",
    "\n",
    "# Đảm bảo dữ liệu đã được gửi\n",
    "producer.flush()\n",
    "\n",
    "print(\"Dữ liệu đã được gửi đến Kafka.\")\n"
   ]
  }
 ],
 "metadata": {
  "kernelspec": {
   "display_name": "base",
   "language": "python",
   "name": "python3"
  },
  "language_info": {
   "codemirror_mode": {
    "name": "ipython",
    "version": 3
   },
   "file_extension": ".py",
   "mimetype": "text/x-python",
   "name": "python",
   "nbconvert_exporter": "python",
   "pygments_lexer": "ipython3",
   "version": "3.11.5"
  }
 },
 "nbformat": 4,
 "nbformat_minor": 2
}
