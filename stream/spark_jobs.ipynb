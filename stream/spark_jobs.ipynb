{
 "cells": [
  {
   "cell_type": "code",
   "execution_count": 41,
   "metadata": {},
   "outputs": [],
   "source": [
    "from pyspark.sql import SparkSession\n",
    "from pyspark.sql.functions import  *\n",
    "from pyspark.sql.types import *"
   ]
  },
  {
   "cell_type": "code",
   "execution_count": 42,
   "metadata": {},
   "outputs": [
    {
     "data": {
      "text/html": [
       "\n",
       "            <div>\n",
       "                <p><b>SparkSession - in-memory</b></p>\n",
       "                \n",
       "        <div>\n",
       "            <p><b>SparkContext</b></p>\n",
       "\n",
       "            <p><a href=\"http://tothailinh:4042\">Spark UI</a></p>\n",
       "\n",
       "            <dl>\n",
       "              <dt>Version</dt>\n",
       "                <dd><code>v3.5.3</code></dd>\n",
       "              <dt>Master</dt>\n",
       "                <dd><code>local[*]</code></dd>\n",
       "              <dt>AppName</dt>\n",
       "                <dd><code>kafka_to_cassandra</code></dd>\n",
       "            </dl>\n",
       "        </div>\n",
       "        \n",
       "            </div>\n",
       "        "
      ],
      "text/plain": [
       "<pyspark.sql.session.SparkSession at 0x149819fc7d0>"
      ]
     },
     "execution_count": 42,
     "metadata": {},
     "output_type": "execute_result"
    }
   ],
   "source": [
    "spark = SparkSession.builder \\\n",
    "    .appName(\"kafka_to_cassandra\") \\\n",
    "    .master('local[*]') \\\n",
    "    .config(\"spark.cassandra.connection.host\",\"localhost\") \\\n",
    "    .config(\"spark.cassandra.connection.port\", \"9042\") \\\n",
    "    .config(\"spark.jars.packages\", \"org.apache.spark:spark-streaming-kafka-0-10_2.12:3.5.3,\" \\\n",
    "                                    \"org.apache.spark:spark-sql-kafka-0-10_2.12:3.5.3,\" \\\n",
    "                                    \"com.datastax.spark:spark-cassandra-connector_2.12:3.5.1\") \\\n",
    "    .getOrCreate()\n",
    "\n",
    "spark"
   ]
  },
  {
   "cell_type": "code",
   "execution_count": 43,
   "metadata": {},
   "outputs": [
    {
     "name": "stdout",
     "output_type": "stream",
     "text": [
      "root\n",
      " |-- key: binary (nullable = true)\n",
      " |-- value: binary (nullable = true)\n",
      " |-- topic: string (nullable = true)\n",
      " |-- partition: integer (nullable = true)\n",
      " |-- offset: long (nullable = true)\n",
      " |-- timestamp: timestamp (nullable = true)\n",
      " |-- timestampType: integer (nullable = true)\n",
      "\n"
     ]
    }
   ],
   "source": [
    "df = spark.readStream \\\n",
    "    .format(\"kafka\") \\\n",
    "    .option(\"kafka.bootstrap.servers\", \"localhost:29092\") \\\n",
    "    .option(\"subscribe\", \"chess_games\") \\\n",
    "    .option(\"startingOffsets\", \"earliest\") \\\n",
    "    .load()\n",
    "\n",
    "df.printSchema()"
   ]
  },
  {
   "cell_type": "code",
   "execution_count": 44,
   "metadata": {},
   "outputs": [],
   "source": [
    "chess_schema = StructType([\n",
    "        StructField(\"Event\", StringType(), True),\n",
    "        StructField(\"Site\", StringType(), True),\n",
    "        StructField(\"Date\", StringType(), True),\n",
    "        StructField(\"Round\", StringType(), True),\n",
    "        StructField(\"White\", StringType(), True),\n",
    "        StructField(\"Black\", StringType(), True),\n",
    "        StructField(\"Result\", StringType(), True),\n",
    "        StructField(\"UTCDate\", StringType(), True),\n",
    "        StructField(\"UTCTime\", StringType(), True),\n",
    "        StructField(\"WhiteElo\", StringType(), True),\n",
    "        StructField(\"BlackElo\", StringType(), True),\n",
    "        StructField(\"WhiteRatingDiff\", StringType(), True),\n",
    "        StructField(\"BlackRatingDiff\", StringType(), True),\n",
    "        StructField(\"TimeControl\", StringType(), True),\n",
    "        StructField(\"Termination\", StringType(), True),\n",
    "        StructField(\"Variant\", StringType(), True),\n",
    "        StructField(\"Moves\", StringType(), True)\n",
    "    ])"
   ]
  },
  {
   "cell_type": "code",
   "execution_count": 45,
   "metadata": {},
   "outputs": [
    {
     "name": "stdout",
     "output_type": "stream",
     "text": [
      "root\n",
      " |-- Event: string (nullable = true)\n",
      " |-- Site: string (nullable = true)\n",
      " |-- Date: string (nullable = true)\n",
      " |-- Round: string (nullable = true)\n",
      " |-- White: string (nullable = true)\n",
      " |-- Black: string (nullable = true)\n",
      " |-- Result: string (nullable = true)\n",
      " |-- UTCDate: string (nullable = true)\n",
      " |-- UTCTime: string (nullable = true)\n",
      " |-- WhiteElo: string (nullable = true)\n",
      " |-- BlackElo: string (nullable = true)\n",
      " |-- WhiteRatingDiff: string (nullable = true)\n",
      " |-- BlackRatingDiff: string (nullable = true)\n",
      " |-- TimeControl: string (nullable = true)\n",
      " |-- Termination: string (nullable = true)\n",
      " |-- Variant: string (nullable = true)\n",
      " |-- Moves: string (nullable = true)\n",
      "\n"
     ]
    }
   ],
   "source": [
    "df = df.selectExpr(\"CAST(value AS STRING)\")\n",
    "chess_stream = df.select(from_json(col(\"value\"), chess_schema).alias(\"data\"))\n",
    "chess_df = chess_stream.select(\"data.*\")\n",
    "\n",
    "chess_df.printSchema()"
   ]
  },
  {
   "cell_type": "code",
   "execution_count": 46,
   "metadata": {},
   "outputs": [
    {
     "name": "stdout",
     "output_type": "stream",
     "text": [
      "root\n",
      " |-- event: string (nullable = true)\n",
      " |-- site: string (nullable = true)\n",
      " |-- date: string (nullable = true)\n",
      " |-- round: string (nullable = true)\n",
      " |-- white: string (nullable = true)\n",
      " |-- black: string (nullable = true)\n",
      " |-- result: string (nullable = true)\n",
      " |-- utcdate: string (nullable = true)\n",
      " |-- utctime: string (nullable = true)\n",
      " |-- whiteelo: string (nullable = true)\n",
      " |-- blackelo: string (nullable = true)\n",
      " |-- whiteratingdiff: string (nullable = true)\n",
      " |-- blackratingdiff: string (nullable = true)\n",
      " |-- timecontrol: string (nullable = true)\n",
      " |-- termination: string (nullable = true)\n",
      " |-- variant: string (nullable = true)\n",
      " |-- moves: string (nullable = true)\n",
      " |-- gameid: string (nullable = true)\n",
      "\n"
     ]
    }
   ],
   "source": [
    "import uuid\n",
    "for column in chess_df.columns:\n",
    "    chess_df = chess_df.withColumnRenamed(column, column.lower())\n",
    "\n",
    "uuid_udf = udf(lambda: str(uuid.uuid4()), StringType())\n",
    "\n",
    "# Thêm cột GameID vào DataFrame\n",
    "chess_df = chess_df.withColumn(\"gameid\", uuid_udf())\n",
    "\n",
    "chess_df.printSchema()"
   ]
  },
  {
   "cell_type": "code",
   "execution_count": 47,
   "metadata": {},
   "outputs": [
    {
     "data": {
      "text/plain": [
       "<cassandra.cluster.Session at 0x14981e5bb90>"
      ]
     },
     "execution_count": 47,
     "metadata": {},
     "output_type": "execute_result"
    }
   ],
   "source": [
    "from cassandra.cluster import Cluster\n",
    "try:\n",
    "    cluster = Cluster(['localhost'])\n",
    "\n",
    "    cassandra_session = cluster.connect()\n",
    "except Exception as e:\n",
    "        print(f\"Could not create cassandra connection due to {e}\")\n",
    "\n",
    "cassandra_session"
   ]
  },
  {
   "cell_type": "code",
   "execution_count": 48,
   "metadata": {},
   "outputs": [
    {
     "data": {
      "text/plain": [
       "<cassandra.cluster.ResultSet at 0x1498879fe10>"
      ]
     },
     "execution_count": 48,
     "metadata": {},
     "output_type": "execute_result"
    }
   ],
   "source": [
    "keyspace_query = \"\"\"\n",
    "           CREATE KEYSPACE IF NOT EXISTS lichess WITH REPLICATION = {'class': 'SimpleStrategy', 'replication_factor': 1};\n",
    "    \"\"\"\n",
    "cassandra_session.execute(keyspace_query)"
   ]
  },
  {
   "cell_type": "code",
   "execution_count": 49,
   "metadata": {},
   "outputs": [
    {
     "data": {
      "text/plain": [
       "<cassandra.cluster.ResultSet at 0x1498879db50>"
      ]
     },
     "execution_count": 49,
     "metadata": {},
     "output_type": "execute_result"
    }
   ],
   "source": [
    "table_query = \"\"\"\n",
    "        CREATE TABLE IF NOT EXISTS lichess.games (\n",
    "        Event text,\n",
    "        Site text,\n",
    "        Date text,\n",
    "        Round text,\n",
    "        White text,\n",
    "        Black text,\n",
    "        Result text,\n",
    "        UTCDate text,\n",
    "        UTCTime text,\n",
    "        WhiteElo text,\n",
    "        BlackElo text,\n",
    "        WhiteRatingDiff text,\n",
    "        BlackRatingDiff text,\n",
    "        TimeControl text,\n",
    "        Termination text,\n",
    "        Variant text,\n",
    "        Moves text,\n",
    "        GameID text,\n",
    "        PRIMARY KEY (gameId)\n",
    "    );\n",
    "    \"\"\"\n",
    "cassandra_session.execute(table_query)"
   ]
  },
  {
   "cell_type": "code",
   "execution_count": 50,
   "metadata": {},
   "outputs": [
    {
     "name": "stdout",
     "output_type": "stream",
     "text": [
      "Da luu xong du lieu vao Cassandra\n"
     ]
    }
   ],
   "source": [
    "query = chess_df.writeStream \\\n",
    "    .outputMode(\"append\") \\\n",
    "    .format(\"org.apache.spark.sql.cassandra\") \\\n",
    "    .option(\"keyspace\", \"lichess\") \\\n",
    "    .option(\"table\", \"games\") \\\n",
    "    .option(\"checkpointLocation\", \"/tmp/kafka-checkpoint\") \\\n",
    "    .start()\n",
    "\n",
    "print(\"Da luu xong du lieu vao Cassandra\")\n",
    "\n",
    "# query.awaitTermination()"
   ]
  },
  {
   "cell_type": "code",
   "execution_count": null,
   "metadata": {},
   "outputs": [],
   "source": []
  }
 ],
 "metadata": {
  "kernelspec": {
   "display_name": "base",
   "language": "python",
   "name": "python3"
  },
  "language_info": {
   "codemirror_mode": {
    "name": "ipython",
    "version": 3
   },
   "file_extension": ".py",
   "mimetype": "text/x-python",
   "name": "python",
   "nbconvert_exporter": "python",
   "pygments_lexer": "ipython3",
   "version": "3.11.4"
  }
 },
 "nbformat": 4,
 "nbformat_minor": 2
}
