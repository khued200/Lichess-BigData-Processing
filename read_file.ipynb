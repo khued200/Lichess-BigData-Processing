{
 "cells": [
  {
   "cell_type": "code",
   "execution_count": 30,
   "metadata": {},
   "outputs": [
    {
     "name": "stdout",
     "output_type": "stream",
     "text": [
      "Headers(Event='Rated Chess960 game', Site='https://lichess.org/k0KtfRko', Date='2024.09.01', Round='-', White='cecht', Black='molsonhart', Result='0-1', UTCDate='2024.09.01', UTCTime='00:25:35', WhiteElo='1846', BlackElo='1967', WhiteRatingDiff='-20', BlackRatingDiff='+4', TimeControl='60+0', Termination='Time forfeit', FEN='bbrknqrn/pppppppp/8/8/8/8/PPPPPPPP/BBRKNQRN w KQkq - 0 1', SetUp='1', Variant='Chess960')\n"
     ]
    }
   ],
   "source": [
    "import chess.pgn\n",
    "import pandas as pd\n",
    "\n",
    "def read_pgn_to_dataframe(file_path):\n",
    "    games_data = []\n",
    "    with open(file_path, 'r', encoding='utf-8') as pgn_file:\n",
    "        for i in range(10):\n",
    "            game = chess.pgn.read_game(pgn_file)\n",
    "            headers = game.headers\n",
    "            print(headers)\n",
    "            break\n",
    "            if game is None:\n",
    "                break\n",
    "            # Extract relevant information from the game\n",
    "            headers = game.headers\n",
    "            game_info = {\n",
    "                'White': headers.get('White', 'Unknown'),\n",
    "                'Black': headers.get('Black', 'Unknown'),\n",
    "                'Result': headers.get('Result', 'Unknown'),\n",
    "                'Date': headers.get('Date', 'Unknown'),\n",
    "                'Time': headers.get('Time', 'Unknown'),\n",
    "                'WhiteElo':headers.get('WhiteElo', 'Unknown'), \n",
    "                'BlackElo':headers.get('BlackElo', 'Unknown'),\n",
    "                'TimeControl':headers.get('TimeControl', 'Unknown'),\n",
    "                'Variant':headers.get('Variant', 'Unknown'),\n",
    "                'Moves': ' '.join(str(move) for move in game.mainline_moves())\n",
    "            }\n",
    "            games_data.append(game_info)  # Separator for readability\n",
    "        \n",
    "    df = pd.DataFrame(games_data)\n",
    "    return df\n",
    "\n",
    "# Example usage\n",
    "pgn_file_path = 'D:\\lichess_db_chess960_rated_2024-09.pgn'  # Replace with your .pgn file\n",
    "df_games = read_pgn_to_dataframe(pgn_file_path)\n",
    "\n",
    "# print(df_games.head())"
   ]
  }
 ],
 "metadata": {
  "kernelspec": {
   "display_name": "Python 3",
   "language": "python",
   "name": "python3"
  },
  "language_info": {
   "codemirror_mode": {
    "name": "ipython",
    "version": 3
   },
   "file_extension": ".py",
   "mimetype": "text/x-python",
   "name": "python",
   "nbconvert_exporter": "python",
   "pygments_lexer": "ipython3",
   "version": "3.11.6"
  }
 },
 "nbformat": 4,
 "nbformat_minor": 2
}
