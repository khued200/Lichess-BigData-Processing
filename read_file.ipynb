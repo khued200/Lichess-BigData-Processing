{
 "cells": [
  {
   "cell_type": "code",
   "execution_count": 2,
   "metadata": {},
   "outputs": [
    {
     "name": "stdout",
     "output_type": "stream",
     "text": [
      "Headers(Event='Rated Chess960 game', Site='https://lichess.org/k0KtfRko', Date='2024.09.01', Round='-', White='cecht', Black='molsonhart', Result='0-1', UTCDate='2024.09.01', UTCTime='00:25:35', WhiteElo='1846', BlackElo='1967', WhiteRatingDiff='-20', BlackRatingDiff='+4', TimeControl='60+0', Termination='Time forfeit', FEN='bbrknqrn/pppppppp/8/8/8/8/PPPPPPPP/BBRKNQRN w KQkq - 0 1', SetUp='1', Variant='Chess960')\n",
      "Headers(Event='Rated Chess960 tournament https://lichess.org/tournament/vgPxTR0R', Site='https://lichess.org/jseFZxxX', Date='2024.09.01', Round='-', White='BBBGirl', Black='Ivo-Marinov', Result='1-0', UTCDate='2024.09.01', UTCTime='00:25:40', WhiteElo='1894', BlackElo='1655', WhiteRatingDiff='+3', BlackRatingDiff='-2', TimeControl='120+0', Termination='Normal', FEN='brknqbnr/pppppppp/8/8/8/8/PPPPPPPP/BRKNQBNR w KQkq - 0 1', SetUp='1', Variant='Chess960')\n",
      "Headers(Event='Rated Chess960 tournament https://lichess.org/tournament/vgPxTR0R', Site='https://lichess.org/x1ycCa2j', Date='2024.09.01', Round='-', White='Magna19', Black='AspectOfTheNerd', Result='0-1', UTCDate='2024.09.01', UTCTime='00:25:40', WhiteElo='1152', BlackElo='1966', WhiteRatingDiff='-1', BlackRatingDiff='+0', TimeControl='120+0', Termination='Normal', FEN='rqnbbnkr/pppppppp/8/8/8/8/PPPPPPPP/RQNBBNKR w KQkq - 0 1', SetUp='1', Variant='Chess960')\n",
      "Headers(Event='Rated Chess960 game', Site='https://lichess.org/qYeKky0B', Date='2024.09.01', Round='-', White='vladimirzozulya1500', Black='chessleo92', Result='1-0', UTCDate='2024.09.01', UTCTime='00:26:18', WhiteElo='1567', BlackElo='1566', WhiteRatingDiff='+4', BlackRatingDiff='-150', TimeControl='300+0', Termination='Normal', FEN='nbqrbnkr/pppppppp/8/8/8/8/PPPPPPPP/NBQRBNKR w KQkq - 0 1', SetUp='1', Variant='Chess960')\n",
      "Headers(Event='Rated Chess960 game', Site='https://lichess.org/N1Du7LM7', Date='2024.09.01', Round='-', White='Lary_Lodini', Black='kuraftinho', Result='0-1', UTCDate='2024.09.01', UTCTime='00:26:24', WhiteElo='1889', BlackElo='1915', WhiteRatingDiff='-5', BlackRatingDiff='+5', TimeControl='90+0', Termination='Normal', FEN='rbbknnrq/pppppppp/8/8/8/8/PPPPPPPP/RBBKNNRQ w KQkq - 0 1', SetUp='1', Variant='Chess960')\n",
      "Headers(Event='Rated Chess960 game', Site='https://lichess.org/1gFAwEdJ', Date='2024.09.01', Round='-', White='Killda', Black='gmweinberg', Result='0-1', UTCDate='2024.09.01', UTCTime='00:26:54', WhiteElo='1551', BlackElo='1616', WhiteRatingDiff='-33', BlackRatingDiff='+4', TimeControl='600+0', Termination='Normal', FEN='qrbbknnr/pppppppp/8/8/8/8/PPPPPPPP/QRBBKNNR w KQkq - 0 1', SetUp='1', Variant='Chess960')\n",
      "Headers(Event='Rated Chess960 game', Site='https://lichess.org/eGqJV8K9', Date='2024.09.01', Round='-', White='nathantmg', Black='mle', Result='0-1', UTCDate='2024.09.01', UTCTime='00:28:05', WhiteElo='1970', BlackElo='1859', WhiteRatingDiff='-8', BlackRatingDiff='+8', TimeControl='180+0', Termination='Normal', FEN='bbrnkrnq/pppppppp/8/8/8/8/PPPPPPPP/BBRNKRNQ w KQkq - 0 1', SetUp='1', Variant='Chess960')\n",
      "Headers(Event='Rated Chess960 tournament https://lichess.org/tournament/vgPxTR0R', Site='https://lichess.org/6ScjxFHJ', Date='2024.09.01', Round='-', White='drogba13', Black='Demoleitor64', Result='0-1', UTCDate='2024.09.01', UTCTime='00:28:15', WhiteElo='2070', BlackElo='1987', WhiteRatingDiff='-7', BlackRatingDiff='+7', TimeControl='120+0', Termination='Normal', FEN='bnqbrknr/pppppppp/8/8/8/8/PPPPPPPP/BNQBRKNR w KQkq - 0 1', SetUp='1', Variant='Chess960')\n",
      "Headers(Event='Rated Chess960 tournament https://lichess.org/tournament/vgPxTR0R', Site='https://lichess.org/FVmJ5DXl', Date='2024.09.01', Round='-', White='a_true_Ninja', Black='SLABIFOR', Result='0-1', UTCDate='2024.09.01', UTCTime='00:28:15', WhiteElo='2048', BlackElo='1860', WhiteRatingDiff='-14', BlackRatingDiff='+9', TimeControl='120+0', Termination='Normal', FEN='nrkqnrbb/pppppppp/8/8/8/8/PPPPPPPP/NRKQNRBB w KQkq - 0 1', SetUp='1', Variant='Chess960')\n",
      "Headers(Event='Rated Chess960 game', Site='https://lichess.org/JaG6rr6s', Date='2024.09.01', Round='-', White='Jack639', Black='m1ntaka', Result='0-1', UTCDate='2024.09.01', UTCTime='00:28:33', WhiteElo='1268', BlackElo='1505', WhiteRatingDiff='-54', BlackRatingDiff='+2', TimeControl='600+3', Termination='Normal', FEN='nbnrkqbr/pppppppp/8/8/8/8/PPPPPPPP/NBNRKQBR w KQkq - 0 1', SetUp='1', Variant='Chess960')\n",
      "Headers(Event='Rated Chess960 game', Site='https://lichess.org/DHUac8ik', Date='2024.09.01', Round='-', White='galeono', Black='Tucapel', Result='1-0', UTCDate='2024.09.01', UTCTime='00:36:00', WhiteElo='1560', BlackElo='1634', WhiteRatingDiff='+29', BlackRatingDiff='-6', TimeControl='300+3', Termination='Normal', FEN='rnbnqkrb/pppppppp/8/8/8/8/PPPPPPPP/RNBNQKRB w KQkq - 0 1', SetUp='1', Variant='Chess960')\n",
      "Headers(Event='Rated Chess960 game', Site='https://lichess.org/eLSSun7w', Date='2024.09.01', Round='-', White='Sapolsky', Black='elvor1on', Result='1-0', UTCDate='2024.09.01', UTCTime='00:36:11', WhiteElo='1433', BlackElo='1432', WhiteRatingDiff='+4', BlackRatingDiff='-198', TimeControl='240+0', Termination='Normal', FEN='bnnrqkrb/pppppppp/8/8/8/8/PPPPPPPP/BNNRQKRB w KQkq - 0 1', SetUp='1', Variant='Chess960')\n",
      "Headers(Event='Rated Chess960 tournament https://lichess.org/tournament/vgPxTR0R', Site='https://lichess.org/aq4Lx26r', Date='2024.09.01', Round='-', White='Ivo-Marinov', Black='BBBGirl', Result='1-0', UTCDate='2024.09.01', UTCTime='00:37:30', WhiteElo='1663', BlackElo='1900', WhiteRatingDiff='+9', BlackRatingDiff='-9', TimeControl='120+0', Termination='Time forfeit', FEN='rkqnbnrb/pppppppp/8/8/8/8/PPPPPPPP/RKQNBNRB w KQkq - 0 1', SetUp='1', Variant='Chess960')\n",
      "Headers(Event='Rated Chess960 tournament https://lichess.org/tournament/vgPxTR0R', Site='https://lichess.org/LLGAWcci', Date='2024.09.01', Round='-', White='Demoleitor64', Black='emadov777', Result='1-0', UTCDate='2024.09.01', UTCTime='00:37:30', WhiteElo='1987', BlackElo='2045', WhiteRatingDiff='+7', BlackRatingDiff='-7', TimeControl='120+0', Termination='Normal', FEN='qrnkrnbb/pppppppp/8/8/8/8/PPPPPPPP/QRNKRNBB w KQkq - 0 1', SetUp='1', Variant='Chess960')\n",
      "Headers(Event='Rated Chess960 game', Site='https://lichess.org/8nDZKjz9', Date='2024.09.01', Round='-', White='patolouco', Black='Trasric', Result='1-0', UTCDate='2024.09.01', UTCTime='00:38:15', WhiteElo='1944', BlackElo='1689', WhiteRatingDiff='+2', BlackRatingDiff='-7', TimeControl='180+0', Termination='Normal', FEN='qrkbbnrn/pppppppp/8/8/8/8/PPPPPPPP/QRKBBNRN w KQkq - 0 1', SetUp='1', Variant='Chess960')\n",
      "Headers(Event='Rated Chess960 game', Site='https://lichess.org/W838VFBt', Date='2024.09.01', Round='-', White='mle', Black='nathantmg', Result='0-1', UTCDate='2024.09.01', UTCTime='00:38:19', WhiteElo='1859', BlackElo='1970', WhiteRatingDiff='-4', BlackRatingDiff='+4', TimeControl='180+0', Termination='Normal', FEN='nrqknrbb/pppppppp/8/8/8/8/PPPPPPPP/NRQKNRBB w KQkq - 0 1', SetUp='1', Variant='Chess960')\n",
      "Headers(Event='Rated Chess960 tournament https://lichess.org/tournament/vgPxTR0R', Site='https://lichess.org/wDnJcyZ9', Date='2024.09.01', Round='-', White='AspectOfTheNerd', Black='Magna19', Result='1-0', UTCDate='2024.09.01', UTCTime='00:38:47', WhiteElo='1944', BlackElo='1149', WhiteRatingDiff='+0', BlackRatingDiff='-2', TimeControl='120+0', Termination='Normal', FEN='rqnnkrbb/pppppppp/8/8/8/8/PPPPPPPP/RQNNKRBB w KQkq - 0 1', SetUp='1', Variant='Chess960')\n",
      "Headers(Event='Rated Chess960 tournament https://lichess.org/tournament/vgPxTR0R', Site='https://lichess.org/jVbAGIzK', Date='2024.09.01', Round='-', White='SLABIFOR', Black='Leandro8547', Result='0-1', UTCDate='2024.09.01', UTCTime='00:38:47', WhiteElo='1864', BlackElo='2028', WhiteRatingDiff='-3', BlackRatingDiff='+7', TimeControl='120+0', Termination='Time forfeit', FEN='rkbqnrnb/pppppppp/8/8/8/8/PPPPPPPP/RKBQNRNB w KQkq - 0 1', SetUp='1', Variant='Chess960')\n",
      "Headers(Event='Rated Chess960 game', Site='https://lichess.org/rNZLI2Si', Date='2024.09.01', Round='-', White='m1ntaka', Black='BIN-1960', Result='0-1', UTCDate='2024.09.01', UTCTime='00:32:07', WhiteElo='1507', BlackElo='1604', WhiteRatingDiff='-4', BlackRatingDiff='+5', TimeControl='600+3', Termination='Normal', FEN='nqbrkbnr/pppppppp/8/8/8/8/PPPPPPPP/NQBRKBNR w KQkq - 0 1', SetUp='1', Variant='Chess960')\n",
      "Headers(Event='Rated Chess960 game', Site='https://lichess.org/mS4HWFqs', Date='2024.09.01', Round='-', White='mle', Black='nathantmg', Result='0-1', UTCDate='2024.09.01', UTCTime='00:32:44', WhiteElo='1867', BlackElo='1962', WhiteRatingDiff='-4', BlackRatingDiff='+4', TimeControl='180+0', Termination='Normal', FEN='bbrnkrnq/pppppppp/8/8/8/8/PPPPPPPP/BBRNKRNQ w KQkq - 0 1', SetUp='1', Variant='Chess960')\n"
     ]
    }
   ],
   "source": [
    "import chess.pgn\n",
    "import pandas as pd\n",
    "\n",
    "def read_pgn_to_dataframe(file_path):\n",
    "    games_data = []\n",
    "    with open(file_path, 'r', encoding='utf-8') as pgn_file:\n",
    "        game_count = 0\n",
    "        for i in range(20):\n",
    "            game = chess.pgn.read_game(pgn_file)\n",
    "            headers = game.headers            \n",
    "            if game is None:\n",
    "                break\n",
    "            print(headers)\n",
    "            # Extract relevant information from the game\n",
    "            game_info = {\n",
    "                # 'Event': headers.get('Event', 'Unknown'),\n",
    "                # 'Site': headers.get('Site', 'Unknown'),\n",
    "                'GameID': game_count,\n",
    "                'White': headers.get('White', 'Unknown'),\n",
    "                'Black': headers.get('Black', 'Unknown'),\n",
    "                'Result': headers.get('Result', 'Unknown'),\n",
    "                'Date': headers.get('Date', 'Unknown'),\n",
    "                'Time': headers.get('UTCTime', 'Unknown'),\n",
    "                'WhiteElo':headers.get('WhiteElo', 'Unknown'), \n",
    "                'BlackElo':headers.get('BlackElo', 'Unknown'),\n",
    "                'TimeControl':headers.get('TimeControl', 'Unknown'),\n",
    "                'Variant':headers.get('Variant', 'Unknown'),\n",
    "                'Moves': ' '.join(str(move) for move in game.mainline_moves())\n",
    "            }\n",
    "            game_count += 1\n",
    "            games_data.append(game_info)  # Separator for readability\n",
    "        \n",
    "    df = pd.DataFrame(games_data)\n",
    "    return df\n",
    "\n",
    "# Example usage\n",
    "pgn_file_path = 'D:\\lichess_db_chess960_rated_2024-09.pgn'  # Replace with your .pgn file\n",
    "df_games = read_pgn_to_dataframe(pgn_file_path)\n",
    "df_games.to_csv('chess.csv', index=False)"
   ]
  }
 ],
 "metadata": {
  "kernelspec": {
   "display_name": "Python 3",
   "language": "python",
   "name": "python3"
  },
  "language_info": {
   "codemirror_mode": {
    "name": "ipython",
    "version": 3
   },
   "file_extension": ".py",
   "mimetype": "text/x-python",
   "name": "python",
   "nbconvert_exporter": "python",
   "pygments_lexer": "ipython3",
   "version": "3.11.6"
  }
 },
 "nbformat": 4,
 "nbformat_minor": 2
}
