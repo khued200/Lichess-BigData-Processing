{
 "cells": [
  {
   "cell_type": "code",
   "execution_count": 3,
   "metadata": {},
   "outputs": [
    {
     "name": "stdout",
     "output_type": "stream",
     "text": [
      "Stopping consumer...\n"
     ]
    }
   ],
   "source": [
    "from kafka import KafkaConsumer\n",
    "import json\n",
    "\n",
    "# Tạo Kafka Consumer\n",
    "consumer = KafkaConsumer(\n",
    "    'chess',  # Tên topic\n",
    "    bootstrap_servers='localhost:9092',\n",
    "    auto_offset_reset='earliest',  # Đọc từ đầu nếu không có offset\n",
    "    enable_auto_commit=True,      # Tự động lưu offset\n",
    "    group_id='my-group',          # Nhóm tiêu thụ\n",
    "    value_deserializer=lambda x: json.loads(x.decode('utf-8'))  # Chuyển đổi giá trị JSON\n",
    ")\n",
    "\n",
    "count = 0\n",
    "\n",
    "# Vòng lặp để nhận tin nhắn mới\n",
    "try:\n",
    "    for message in consumer:\n",
    "        count += 1\n",
    "        print(f\"Received message {count}: {message.value}\")\n",
    "\n",
    "except KeyboardInterrupt:\n",
    "    print(\"Stopping consumer...\")\n",
    "\n",
    "finally:\n",
    "    consumer.close()  # Đóng consumer\n"
   ]
  }
 ],
 "metadata": {
  "kernelspec": {
   "display_name": "base",
   "language": "python",
   "name": "python3"
  },
  "language_info": {
   "codemirror_mode": {
    "name": "ipython",
    "version": 3
   },
   "file_extension": ".py",
   "mimetype": "text/x-python",
   "name": "python",
   "nbconvert_exporter": "python",
   "pygments_lexer": "ipython3",
   "version": "3.11.5"
  }
 },
 "nbformat": 4,
 "nbformat_minor": 2
}
